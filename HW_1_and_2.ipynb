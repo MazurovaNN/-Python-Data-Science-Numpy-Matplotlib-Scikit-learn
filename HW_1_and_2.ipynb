{
  "nbformat": 4,
  "nbformat_minor": 0,
  "metadata": {
    "colab": {
      "provenance": [],
      "authorship_tag": "ABX9TyMeXb+RImmsVH5LRoudLITL",
      "include_colab_link": true
    },
    "kernelspec": {
      "name": "python3",
      "display_name": "Python 3"
    },
    "language_info": {
      "name": "python"
    }
  },
  "cells": [
    {
      "cell_type": "markdown",
      "metadata": {
        "id": "view-in-github",
        "colab_type": "text"
      },
      "source": [
        "<a href=\"https://colab.research.google.com/github/MazurovaNN/-Python-Data-Science-Numpy-Matplotlib-Scikit-learn/blob/HW-1-and-2/HW_1_and_2.ipynb\" target=\"_parent\"><img src=\"https://colab.research.google.com/assets/colab-badge.svg\" alt=\"Open In Colab\"/></a>"
      ]
    },
    {
      "cell_type": "markdown",
      "source": [
        "## Тема “Вычисления с помощью Numpy”\n",
        "# Задание 1\n",
        "\n",
        "Создайте массив Numpy под названием a размером 5x2, то есть состоящий из 5 строк и 2 столбцов. Первый столбец должен содержать числа 1, 2, 3, 3, 1, а второй - числа 6, 8, 11, 10, 7. Будем считать, что каждый столбец - это признак, а строка - наблюдение. Затем найдите среднее значение по каждому признаку, используя метод mean массива Numpy. Результат запишите в массив mean_a, в нем должно быть 2 элемента."
      ],
      "metadata": {
        "id": "6zjwnV2xl-zB"
      }
    },
    {
      "cell_type": "code",
      "source": [
        "import numpy as np"
      ],
      "metadata": {
        "id": "q88t7UbHmKcq"
      },
      "execution_count": 1,
      "outputs": []
    },
    {
      "cell_type": "code",
      "source": [
        "a = np.array(\n",
        "    [[1, 2, 3, 3, 1],\n",
        "    [6, 8, 11, 10, 7]]\n",
        ").transpose()\n",
        "print(a)"
      ],
      "metadata": {
        "colab": {
          "base_uri": "https://localhost:8080/"
        },
        "id": "W-bwDoIJmRO5",
        "outputId": "8e46fe80-8e08-40dc-8b88-8953f979b083"
      },
      "execution_count": 2,
      "outputs": [
        {
          "output_type": "stream",
          "name": "stdout",
          "text": [
            "[[ 1  6]\n",
            " [ 2  8]\n",
            " [ 3 11]\n",
            " [ 3 10]\n",
            " [ 1  7]]\n"
          ]
        }
      ]
    },
    {
      "cell_type": "code",
      "source": [
        "mean_a = np.mean(a, axis = 0)\n",
        "print(mean_a)"
      ],
      "metadata": {
        "colab": {
          "base_uri": "https://localhost:8080/"
        },
        "id": "Gr0WyYc4mV-B",
        "outputId": "815c2585-f331-4fce-b3d1-41a211d4d383"
      },
      "execution_count": 3,
      "outputs": [
        {
          "output_type": "stream",
          "name": "stdout",
          "text": [
            "[2.  8.4]\n"
          ]
        }
      ]
    },
    {
      "cell_type": "markdown",
      "source": [
        "# Задание 2\n",
        "Вычислите массив a_centered, отняв от значений массива “а” средние значения\n",
        "соответствующих признаков, содержащиеся в массиве mean_a. Вычисление должно\n",
        "производиться в одно действие. Получившийся массив должен иметь размер 5x2.\n"
      ],
      "metadata": {
        "id": "uGIJ-f17mdcv"
      }
    },
    {
      "cell_type": "code",
      "source": [
        "a_centered = a - mean_a\n",
        "print(a_centered)"
      ],
      "metadata": {
        "colab": {
          "base_uri": "https://localhost:8080/"
        },
        "id": "I-2dXxthmn3H",
        "outputId": "85276ce9-31af-4bce-9e19-51f22d1a4627"
      },
      "execution_count": 4,
      "outputs": [
        {
          "output_type": "stream",
          "name": "stdout",
          "text": [
            "[[-1.  -2.4]\n",
            " [ 0.  -0.4]\n",
            " [ 1.   2.6]\n",
            " [ 1.   1.6]\n",
            " [-1.  -1.4]]\n"
          ]
        }
      ]
    },
    {
      "cell_type": "markdown",
      "source": [
        "# Задание 3\n",
        "\n",
        "Найдите скалярное произведение столбцов массива a_centered. В результате должна\n",
        "получиться величина _centered_spa. Затем поделите a_centered_sp на N-1, где N - число\n",
        "наблюдений.\n"
      ],
      "metadata": {
        "id": "sbWHzCsrmwDA"
      }
    },
    {
      "cell_type": "code",
      "source": [
        "a_centered_sp = a_centered.T[0] @ a_centered.T[1]\n",
        "print(a_centered_sp)"
      ],
      "metadata": {
        "colab": {
          "base_uri": "https://localhost:8080/"
        },
        "id": "gGTHNQZZm48Y",
        "outputId": "e25efea2-273c-4403-ddf9-740fdbedda84"
      },
      "execution_count": 5,
      "outputs": [
        {
          "output_type": "stream",
          "name": "stdout",
          "text": [
            "8.0\n"
          ]
        }
      ]
    },
    {
      "cell_type": "code",
      "source": [
        "a_centered_sp / (a_centered.shape[0] - 1)\n"
      ],
      "metadata": {
        "colab": {
          "base_uri": "https://localhost:8080/"
        },
        "id": "jIJ4nYRmnD2-",
        "outputId": "3c35a89c-7ac2-4604-951d-a51c1f91cd96"
      },
      "execution_count": 6,
      "outputs": [
        {
          "output_type": "execute_result",
          "data": {
            "text/plain": [
              "2.0"
            ]
          },
          "metadata": {},
          "execution_count": 6
        }
      ]
    },
    {
      "cell_type": "markdown",
      "source": [
        "# Задание 4**\n",
        "Число, которое мы получили в конце задания 3 является ковариацией двух признаков, содержащихся\n",
        "в массиве “а”. В задании 4 мы делили сумму произведений центрированных признаков на N-1, а не на\n",
        "N, поэтому полученная нами величина является несмещенной оценкой ковариации.\n",
        "\n",
        "Подробнее узнать о ковариации можно здесь:\n",
        "\n",
        "Выборочная ковариация и выборочная дисперсия — Студопедия (ссылка)\n",
        "\n",
        "В этом задании проверьте получившееся число, вычислив ковариацию еще одним способом - с\n",
        "помощью функции np.cov. В качестве аргумента m функция np.cov должна принимать\n",
        "транспонированный массив “a”. В получившейся ковариационной матрице (массив Numpy размером\n",
        "2x2) искомое значение ковариации будет равно элементу в строке с индексом 0 и столбце с индексом\n",
        "1.\n",
        "\n",
        "Подробнее узнать о ковариации можно здесь: Ссылка"
      ],
      "metadata": {
        "id": "RXByl5XVnK02"
      }
    },
    {
      "cell_type": "code",
      "source": [
        "np.cov(a.T)[0, 1]"
      ],
      "metadata": {
        "colab": {
          "base_uri": "https://localhost:8080/"
        },
        "id": "D136hlUmnzHv",
        "outputId": "6a55992b-eecc-46b1-d452-e65bb628c74a"
      },
      "execution_count": 7,
      "outputs": [
        {
          "output_type": "execute_result",
          "data": {
            "text/plain": [
              "2.0"
            ]
          },
          "metadata": {},
          "execution_count": 7
        }
      ]
    },
    {
      "cell_type": "markdown",
      "source": [
        "### Тема “Работа с данными в Pandas”\n",
        "# Задание 1\n",
        "\n",
        "Импортируйте библиотеку Pandas и дайте ей псевдоним pd. Создайте датафрейм authors со\n",
        "столбцами author_id и author_name, в которых соответственно содержатся данные:\n",
        "1)\n",
        "\n",
        "[1, 2, 3] и\n",
        "\n",
        "['Тургенев', 'Чехов', 'Островский'].\n",
        "\n",
        "Затем создайте датафрейм book cо столбцами author_id, book_title и price, в которых соответственно\n",
        "содержатся данные:\n",
        "\n",
        "2)\n",
        "\n",
        "[1, 1, 1, 2, 2, 3, 3],\n",
        "\n",
        "['Отцы и дети', 'Рудин', 'Дворянское гнездо', 'Толстый и тонкий', 'Дама с собачкой', 'Гроза', 'Таланты и\n",
        "поклонники']\n",
        "\n",
        "Нужны prices!\n",
        "\n",
        "[500, 400, 300, 350, 450, 600, 200]"
      ],
      "metadata": {
        "id": "4_b-Z5U4n4hy"
      }
    },
    {
      "cell_type": "markdown",
      "source": [
        "## Импортирую: библиотеку Pandas и даю ей псевдоним pd."
      ],
      "metadata": {
        "id": "hM2emr52osrr"
      }
    },
    {
      "cell_type": "code",
      "source": [
        "import pandas as pd"
      ],
      "metadata": {
        "id": "XAoNoS7Xoj6P"
      },
      "execution_count": 8,
      "outputs": []
    },
    {
      "cell_type": "markdown",
      "source": [
        "1)"
      ],
      "metadata": {
        "id": "gC2R6jucpkGy"
      }
    },
    {
      "cell_type": "code",
      "source": [
        "authors = pd.DataFrame({'author_id':[1, 2, 3],\n",
        "                        'author_name':['Тургенев', 'Чехов', 'Островский']},\n",
        "                       columns=['author_id', 'author_name'])\n",
        "print(authors)"
      ],
      "metadata": {
        "colab": {
          "base_uri": "https://localhost:8080/"
        },
        "id": "XwM0T-mYpHMw",
        "outputId": "85bc1d46-720b-451e-d52b-72522c49cbd6"
      },
      "execution_count": 9,
      "outputs": [
        {
          "output_type": "stream",
          "name": "stdout",
          "text": [
            "   author_id author_name\n",
            "0          1    Тургенев\n",
            "1          2       Чехов\n",
            "2          3  Островский\n"
          ]
        }
      ]
    },
    {
      "cell_type": "markdown",
      "source": [
        "2)"
      ],
      "metadata": {
        "id": "PXiDN64wpm2P"
      }
    },
    {
      "cell_type": "code",
      "source": [
        "book = pd.DataFrame({'author_id':[1, 1, 1, 2, 2, 3, 3],\n",
        "                     'book_title':['Отцы и дети', 'Рудин', 'Дворянское гнездо', 'Толстый и тонкий', 'Дама с собачкой', 'Гроза', 'Таланты и поклонники'],\n",
        "                     'price':[450, 300, 350, 500, 450, 370, 290]},\n",
        "                    columns=['author_id', 'book_title', 'price'])\n",
        "print(book)"
      ],
      "metadata": {
        "colab": {
          "base_uri": "https://localhost:8080/"
        },
        "id": "D2-4Cz82pOPj",
        "outputId": "b9fced59-c5c8-4f7b-9dc7-4c6768c5614d"
      },
      "execution_count": 10,
      "outputs": [
        {
          "output_type": "stream",
          "name": "stdout",
          "text": [
            "   author_id            book_title  price\n",
            "0          1           Отцы и дети    450\n",
            "1          1                 Рудин    300\n",
            "2          1     Дворянское гнездо    350\n",
            "3          2      Толстый и тонкий    500\n",
            "4          2       Дама с собачкой    450\n",
            "5          3                 Гроза    370\n",
            "6          3  Таланты и поклонники    290\n"
          ]
        }
      ]
    },
    {
      "cell_type": "markdown",
      "source": [
        "# Задание 2\n",
        "\n",
        "Получите датафрейм authors_price, соединив дата фреймы authors и books по полю author_id."
      ],
      "metadata": {
        "id": "dHRPP0DipsRZ"
      }
    },
    {
      "cell_type": "code",
      "source": [
        "authors_price = pd.merge(authors, book, on = 'author_id', how = 'outer')\n",
        "print(authors_price)"
      ],
      "metadata": {
        "colab": {
          "base_uri": "https://localhost:8080/"
        },
        "id": "z7bWsj-VqJMN",
        "outputId": "8726da45-58e4-4133-b6f3-6747268de3f1"
      },
      "execution_count": 11,
      "outputs": [
        {
          "output_type": "stream",
          "name": "stdout",
          "text": [
            "   author_id author_name            book_title  price\n",
            "0          1    Тургенев           Отцы и дети    450\n",
            "1          1    Тургенев                 Рудин    300\n",
            "2          1    Тургенев     Дворянское гнездо    350\n",
            "3          2       Чехов      Толстый и тонкий    500\n",
            "4          2       Чехов       Дама с собачкой    450\n",
            "5          3  Островский                 Гроза    370\n",
            "6          3  Островский  Таланты и поклонники    290\n"
          ]
        }
      ]
    },
    {
      "cell_type": "markdown",
      "source": [
        "# Задание 3\n",
        "\n",
        "Создайте датафрейм top5, в котором содержатся строки из authors_price с пятью самыми дорогими\n",
        "книгами.\n"
      ],
      "metadata": {
        "id": "pH4IXktbqjZc"
      }
    },
    {
      "cell_type": "code",
      "source": [
        "top5 = authors_price.nlargest(5, 'price')\n",
        "print(top5)"
      ],
      "metadata": {
        "colab": {
          "base_uri": "https://localhost:8080/"
        },
        "id": "TbiKAdBuqqJx",
        "outputId": "6b7afe27-a76c-4879-a633-9b3240e7dd43"
      },
      "execution_count": 12,
      "outputs": [
        {
          "output_type": "stream",
          "name": "stdout",
          "text": [
            "   author_id author_name         book_title  price\n",
            "3          2       Чехов   Толстый и тонкий    500\n",
            "0          1    Тургенев        Отцы и дети    450\n",
            "4          2       Чехов    Дама с собачкой    450\n",
            "5          3  Островский              Гроза    370\n",
            "2          1    Тургенев  Дворянское гнездо    350\n"
          ]
        }
      ]
    },
    {
      "cell_type": "markdown",
      "source": [
        "# Задание 4\n",
        "Создайте датафрейм authors_stat на основе информации из authors_price.\n",
        "\n",
        "В датафрейме authors_stat\n",
        "должны быть четыре столбца:\n",
        "author_name, min_price, max_price и mean_price,\n",
        "в которых должны содержаться соответственно имя автора, минимальная, максимальная и средняя\n",
        "цена на книги этого автора.\n"
      ],
      "metadata": {
        "id": "bjrULGEeqzZR"
      }
    },
    {
      "cell_type": "code",
      "source": [
        "authors_stat = authors_price['author_name'].value_counts()\n",
        "print(authors_stat)"
      ],
      "metadata": {
        "colab": {
          "base_uri": "https://localhost:8080/"
        },
        "id": "T4kqQfS2q6gD",
        "outputId": "6246506b-dee8-4e9b-d4a8-63049df8280b"
      },
      "execution_count": 13,
      "outputs": [
        {
          "output_type": "stream",
          "name": "stdout",
          "text": [
            "author_name\n",
            "Тургенев      3\n",
            "Чехов         2\n",
            "Островский    2\n",
            "Name: count, dtype: int64\n"
          ]
        }
      ]
    },
    {
      "cell_type": "code",
      "source": [
        "authors_stat = authors_price.groupby('author_name').agg({'price':['min', 'max', 'mean']})\n",
        "authors_stat = authors_stat.rename(columns={'min':'min_price', 'max':'max_price', 'mean':'mean_price'})\n",
        "print(authors_stat)"
      ],
      "metadata": {
        "colab": {
          "base_uri": "https://localhost:8080/"
        },
        "id": "batYZkZnrOqN",
        "outputId": "82e52dae-1382-4f19-8ada-8bf23b4e2f5a"
      },
      "execution_count": 14,
      "outputs": [
        {
          "output_type": "stream",
          "name": "stdout",
          "text": [
            "                price                      \n",
            "            min_price max_price  mean_price\n",
            "author_name                                \n",
            "Островский        290       370  330.000000\n",
            "Тургенев          300       450  366.666667\n",
            "Чехов             450       500  475.000000\n"
          ]
        }
      ]
    },
    {
      "cell_type": "markdown",
      "source": [
        "# Задание 5**\n",
        "Создайте новый столбец в датафрейме authors_price под названием cover, в нем будут располагаться\n",
        "данные о том, какая обложка у данной книги - твердая или мягкая. В этот столбец поместите данные\n",
        "из следующего списка:\n",
        "['твердая', 'мягкая', 'мягкая', 'твердая', 'твердая', 'мягкая', 'мягкая'].\n",
        "Просмотрите документацию по функции pd.pivot table с помощью вопросительного знака.\n",
        "Для каждого автора посчитайте суммарную стоимость книг в твердой и мягкой обложке. Используйте\n",
        "для этого функцию pd.pivot_table. При этом столбцы должны называться \"твердая\" и \"мягкая\", а\n",
        "индексами должны быть фамилии авторов. Пропущенные значения стоимостей заполните нулями,\n",
        "при необходимости загрузите библиотеку Numpy.\n",
        "Назовите полученный датасет book_info и сохраните его в формат pickle под названием\n",
        "\"book_info.pkl\". Затем загрузите из этого файла датафрейм и назовите его book_info2. Удостоверьтесь,\n",
        "что датафреймы book_info и book_info2 идентичны."
      ],
      "metadata": {
        "id": "1zn2oEdar3zV"
      }
    },
    {
      "cell_type": "code",
      "source": [
        "authors_price['cover'] = ['твердая', 'мягкая', 'мягкая', 'твердая', 'твердая', 'мягкая', 'мягкая']\n",
        "print(authors_price)"
      ],
      "metadata": {
        "colab": {
          "base_uri": "https://localhost:8080/"
        },
        "id": "ubGF5oE-r8o2",
        "outputId": "c761af41-b1ce-42c3-b92d-4dfa308a6e5e"
      },
      "execution_count": 15,
      "outputs": [
        {
          "output_type": "stream",
          "name": "stdout",
          "text": [
            "   author_id author_name            book_title  price    cover\n",
            "0          1    Тургенев           Отцы и дети    450  твердая\n",
            "1          1    Тургенев                 Рудин    300   мягкая\n",
            "2          1    Тургенев     Дворянское гнездо    350   мягкая\n",
            "3          2       Чехов      Толстый и тонкий    500  твердая\n",
            "4          2       Чехов       Дама с собачкой    450  твердая\n",
            "5          3  Островский                 Гроза    370   мягкая\n",
            "6          3  Островский  Таланты и поклонники    290   мягкая\n"
          ]
        }
      ]
    },
    {
      "cell_type": "code",
      "source": [
        "book_info = pd.pivot_table(authors_price, values='price', index=['author_name'], columns=['cover'], aggfunc=np.sum)\n",
        "book_info['мягкая'] = book_info['мягкая'].fillna(0)\n",
        "book_info['твердая'] = book_info['твердая'].fillna(0)\n",
        "print(book_info)"
      ],
      "metadata": {
        "colab": {
          "base_uri": "https://localhost:8080/"
        },
        "id": "i9GnkjHUsS4k",
        "outputId": "96e9aa89-867e-4049-b447-59dfa06cc644"
      },
      "execution_count": 16,
      "outputs": [
        {
          "output_type": "stream",
          "name": "stdout",
          "text": [
            "cover        мягкая  твердая\n",
            "author_name                 \n",
            "Островский    660.0      0.0\n",
            "Тургенев      650.0    450.0\n",
            "Чехов           0.0    950.0\n"
          ]
        }
      ]
    },
    {
      "cell_type": "code",
      "source": [
        "book_info.to_pickle('book_info.pkl')\n"
      ],
      "metadata": {
        "id": "_O603l8qsVXF"
      },
      "execution_count": 17,
      "outputs": []
    },
    {
      "cell_type": "code",
      "source": [
        "book_info2 = pd.read_pickle('book_info.pkl')\n"
      ],
      "metadata": {
        "id": "UePLfPV6scmA"
      },
      "execution_count": 18,
      "outputs": []
    },
    {
      "cell_type": "code",
      "source": [
        "book_info.equals(book_info2)\n"
      ],
      "metadata": {
        "colab": {
          "base_uri": "https://localhost:8080/"
        },
        "id": "DkJenyV7sh3-",
        "outputId": "8817b04f-82aa-4261-d2b9-d39d2cb737ae"
      },
      "execution_count": 19,
      "outputs": [
        {
          "output_type": "execute_result",
          "data": {
            "text/plain": [
              "True"
            ]
          },
          "metadata": {},
          "execution_count": 19
        }
      ]
    }
  ]
}